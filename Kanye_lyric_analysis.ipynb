{
 "cells": [
  {
   "cell_type": "code",
   "execution_count": 5,
   "metadata": {},
   "outputs": [],
   "source": [
    "import pandas as pd\n",
    "from lyrics_to_df import lyrics_to_df\n",
    "import get_lyrics\n",
    "\n",
    "df = pd.DataFrame({'artist': [], 'album': [], 'song_name': [], 'lyrics': []})\n",
    "df2 =pd.DataFrame({'artist': [], 'song_name': [], 'lyrics': []})\n",
    "\n",
    "yeezuz = {'artist': 'kanye west',\n",
    "          'album': 'Yeezus',\n",
    "          'songs': ['ON SIGHT', 'black skinhead', 'i am a god', 'new slaves']}\n",
    "\n",
    "life_of_pablo = {'artist': 'kanye west',\n",
    "                 'album': 'The Life Of Pablo',\n",
    "                 'songs': ['Ultralightbeam', \"Father Stretch My Hands, Pt. 1\", 'Pt.2', 'famous', 'feedback',\n",
    "                           'low lights',\n",
    "                           'highlights', 'freestyle 4', 'i love kanye', 'waves', 'fml', 'real freinds', 'wolves',\n",
    "                           'franks track', 'Siiiiiiiiilver Surffffeeeeer Intermission', '30 hours', 'no more parties in LA',\n",
    "                           'fade', 'saint pablo']}\n",
    "new_slaves = {'artist': 'kanye west',\n",
    "              'album':None,\n",
    "          'songs': ['new slaves']}"
   ]
  },
  {
   "cell_type": "code",
   "execution_count": 6,
   "metadata": {},
   "outputs": [
    {
     "data": {
      "text/html": [
       "<div>\n",
       "<style scoped>\n",
       "    .dataframe tbody tr th:only-of-type {\n",
       "        vertical-align: middle;\n",
       "    }\n",
       "\n",
       "    .dataframe tbody tr th {\n",
       "        vertical-align: top;\n",
       "    }\n",
       "\n",
       "    .dataframe thead th {\n",
       "        text-align: right;\n",
       "    }\n",
       "</style>\n",
       "<table border=\"1\" class=\"dataframe\">\n",
       "  <thead>\n",
       "    <tr style=\"text-align: right;\">\n",
       "      <th></th>\n",
       "      <th>artist</th>\n",
       "      <th>song_name</th>\n",
       "      <th>lyrics</th>\n",
       "    </tr>\n",
       "  </thead>\n",
       "  <tbody>\n",
       "    <tr>\n",
       "      <th>0</th>\n",
       "      <td>kanye west</td>\n",
       "      <td>new slaves</td>\n",
       "      <td>\\n\\n[Intro: Swizz Beatz]\\nChill, chill, chill,...</td>\n",
       "    </tr>\n",
       "  </tbody>\n",
       "</table>\n",
       "</div>"
      ],
      "text/plain": [
       "       artist   song_name                                             lyrics\n",
       "0  kanye west  new slaves  \\n\\n[Intro: Swizz Beatz]\\nChill, chill, chill,..."
      ]
     },
     "execution_count": 6,
     "metadata": {},
     "output_type": "execute_result"
    }
   ],
   "source": [
    "df = lyrics_to_df(yeezuz, df)\n",
    "df = lyrics_to_df(life_of_pablo, df)\n",
    "df2 = lyrics_to_df(new_slaves, df2)\n",
    "df2.head()"
   ]
  },
  {
   "cell_type": "code",
   "execution_count": null,
   "metadata": {},
   "outputs": [],
   "source": []
  }
 ],
 "metadata": {
  "kernelspec": {
   "display_name": "Python 3",
   "language": "python",
   "name": "python3"
  },
  "language_info": {
   "codemirror_mode": {
    "name": "ipython",
    "version": 3
   },
   "file_extension": ".py",
   "mimetype": "text/x-python",
   "name": "python",
   "nbconvert_exporter": "python",
   "pygments_lexer": "ipython3",
   "version": "3.6.9"
  }
 },
 "nbformat": 4,
 "nbformat_minor": 2
}
